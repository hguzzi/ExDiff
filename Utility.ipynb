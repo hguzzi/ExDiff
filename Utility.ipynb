{
  "nbformat": 4,
  "nbformat_minor": 0,
  "metadata": {
    "colab": {
      "provenance": [],
      "authorship_tag": "ABX9TyP9N67pKvyRXECUpJrGF5PP",
      "include_colab_link": true
    },
    "kernelspec": {
      "name": "python3",
      "display_name": "Python 3"
    },
    "language_info": {
      "name": "python"
    }
  },
  "cells": [
    {
      "cell_type": "markdown",
      "metadata": {
        "id": "view-in-github",
        "colab_type": "text"
      },
      "source": [
        "<a href=\"https://colab.research.google.com/github/hguzzi/ExDiff/blob/main/Utility.ipynb\" target=\"_parent\"><img src=\"https://colab.research.google.com/assets/colab-badge.svg\" alt=\"Open In Colab\"/></a>"
      ]
    },
    {
      "cell_type": "code",
      "execution_count": 9,
      "metadata": {
        "colab": {
          "base_uri": "https://localhost:8080/"
        },
        "id": "FrvJcLQfhXEk",
        "outputId": "2c183b19-ce74-4de7-ed64-8e0261cbf09c"
      },
      "outputs": [
        {
          "output_type": "stream",
          "name": "stdout",
          "text": [
            "Erdős-Rényi Graph:\n",
            "Number of nodes: 10\n",
            "Number of edges: 20\n",
            "\n",
            "G(n,p) Graph:\n",
            "Number of nodes: 10\n",
            "Number of edges: 24\n",
            "\n",
            "Barabási-Albert Graph:\n",
            "Number of nodes: 100\n",
            "Number of edges: 196\n",
            "\n",
            "Stochastic Block Model Graph:\n",
            "Number of nodes: 100\n",
            "Number of edges: 2471\n"
          ]
        }
      ],
      "source": [
        "'''\n",
        "# Utility Class: Network Graph Generator\n",
        "\n",
        "This utility class provides a function to create various types of network graphs using the NetworkX library.\n",
        "\n",
        "Author: [Your Name]\n",
        "University of Catanzaro\n",
        "\n",
        "Function:\n",
        "  create_graph(model, parameters)\n",
        "\n",
        "Description:\n",
        "  Creates a network graph based on the specified model and parameters.\n",
        "\n",
        "Arguments:\n",
        "  model (str): The type of network model to create. Supported models:\n",
        "    - 'erdos-reny': Erdős-Rényi random graph\n",
        "    - 'GNP': G(n,p) random graph, the same as Erdős-Rényi random graph.\n",
        "    - 'barabasi-albert': Barabási-Albert preferential attachment model\n",
        "    - 'sbm': Stochastic Block Model\n",
        "  parameters (dict): A dictionary containing the parameters for the chosen model.\n",
        "    - For 'erdos-reny' and 'GNP':\n",
        "      - 'n': Number of nodes (int)\n",
        "      - 'p': Probability of edge creation (float)\n",
        "    - For 'barabasi-albert':\n",
        "      - 'n': Number of nodes (int)\n",
        "      - 'm': Number of edges to attach from a new node to existing nodes (int)\n",
        "    - For 'sbm':\n",
        "      - 'n': Number of nodes (int)\n",
        "      - 'sizes': Block sizes (list of ints)\n",
        "      - 'probs': Probability matrix (numpy array)\n",
        "\n",
        "Returns:\n",
        "  networkx.Graph: The created network graph object.\n",
        "\n",
        "Example Usage:\n",
        "  # Create an Erdős-Rényi graph with 10 nodes and edge probability 0.5\n",
        "  graph = create_graph('erdos-reny', {'n': 10, 'p': 0.5})\n",
        "\n",
        "  # Create a Barabási-Albert graph with 100 nodes and 2 edges per new node\n",
        "  graph = create_graph('barabasi-albert', {'n': 100, 'm': 2})\n",
        "\n",
        "  # Create a Stochastic Block Model\n",
        "  graph = create_graph('sbm', {'n': 100, 'sizes': [50, 50], 'probs': [[0.8, 0.2], [0.2, 0.8]]})\n",
        "\n",
        "'''\n",
        "\n",
        "\n",
        "def create_graph(model, parameters):\n",
        "  if model=='erdos-reny':\n",
        "      n = parameters['n']  # Number of nodes\n",
        "      p = parameters['p']  # Probability of edge creation\n",
        "      G = nx.erdos_renyi_graph(n, p)\n",
        "  elif model == 'GNP':  # Added GNP model\n",
        "      n = parameters['n']  # Number of nodes\n",
        "      p = parameters['p']  # Probability of edge creation\n",
        "      G = nx.gnp_random_graph(n, p)  # Use gnp_random_graph\n",
        "  elif model == 'GNP':  # Added GNP model\n",
        "      n = parameters['n']  # Number of nodes\n",
        "      p = parameters['p']  # Probability of edge creation\n",
        "      G = nx.gnp_random_graph(n, p)  # Use gnp_random_graph\n",
        "  elif model == 'barabasi-albert':\n",
        "      n = parameters['n']\n",
        "      m = parameters['m']  # Number of edges to attach from a new node to existing nodes\n",
        "      G = nx.barabasi_albert_graph(n, m)  # Use barabasi_albert_graph\n",
        "  elif model == 'sbm':  # Added SBM model\n",
        "        n = parameters['n']  # Number of nodes\n",
        "        sizes = parameters['sizes']  # Block sizes (list)\n",
        "        probs = parameters['probs']  # Probability matrix (numpy array)\n",
        "        G = nx.stochastic_block_model(sizes, probs, seed=0)  # Use stochastic_block_model\n",
        "  return G\n",
        "\n",
        "\n",
        "if __name__ == \"__main__\":\n",
        "    # Test cases for different network models\n",
        "\n",
        "    # Erdős-Rényi random graph\n",
        "    er_graph = create_graph('erdos-reny', {'n': 10, 'p': 0.5})\n",
        "    print(\"Erdős-Rényi Graph:\")\n",
        "    print(f\"Number of nodes: {nx.number_of_nodes(er_graph)}\")\n",
        "    print(f\"Number of edges: {nx.number_of_edges(er_graph)}\")\n",
        "\n",
        "    # G(n,p) random graph\n",
        "    gnp_graph = create_graph('GNP', {'n': 10, 'p': 0.5})\n",
        "    print(\"\\nG(n,p) Graph:\")\n",
        "    print(f\"Number of nodes: {nx.number_of_nodes(gnp_graph)}\")\n",
        "    print(f\"Number of edges: {nx.number_of_edges(gnp_graph)}\")\n",
        "\n",
        "    # Barabási-Albert preferential attachment model\n",
        "    ba_graph = create_graph('barabasi-albert', {'n': 100, 'm': 2})\n",
        "    print(\"\\nBarabási-Albert Graph:\")\n",
        "    print(f\"Number of nodes: {nx.number_of_nodes(ba_graph)}\")\n",
        "    print(f\"Number of edges: {nx.number_of_edges(ba_graph)}\")\n",
        "\n",
        "    # Stochastic Block Model\n",
        "    sbm_graph = create_graph('sbm', {'n': 100, 'sizes': [50, 50], 'probs': [[0.8, 0.2], [0.2, 0.8]]})\n",
        "    print(\"\\nStochastic Block Model Graph:\")\n",
        "    print(f\"Number of nodes: {nx.number_of_nodes(sbm_graph)}\")\n",
        "    print(f\"Number of edges: {nx.number_of_edges(sbm_graph)}\")\n"
      ]
    }
  ]
}